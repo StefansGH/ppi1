{
 "cells": [
  {
   "cell_type": "code",
   "execution_count": 9,
   "metadata": {},
   "outputs": [
    {
     "data": {
      "text/html": [
       "<script>\n",
       "code_show=true; \n",
       "function code_toggle() {\n",
       " if (code_show){\n",
       " $('div.input').hide();\n",
       " } else {\n",
       " $('div.input').show();\n",
       " }\n",
       " code_show = !code_show\n",
       "} \n",
       "$( document ).ready(code_toggle);\n",
       "</script>\n",
       "Show code: <a href=\"javascript:code_toggle()\">here</a>."
      ],
      "text/plain": [
       "<IPython.core.display.HTML object>"
      ]
     },
     "execution_count": 9,
     "metadata": {},
     "output_type": "execute_result"
    }
   ],
   "source": [
    "from IPython.display import HTML\n",
    "HTML('''<script>\n",
    "code_show=true; \n",
    "function code_toggle() {\n",
    " if (code_show){\n",
    " $('div.input').hide();\n",
    " } else {\n",
    " $('div.input').show();\n",
    " }\n",
    " code_show = !code_show\n",
    "} \n",
    "$( document ).ready(code_toggle);\n",
    "</script>\n",
    "Show code: <a href=\"javascript:code_toggle()\">here</a>.''')"
   ]
  },
  {
   "cell_type": "code",
   "execution_count": 2,
   "metadata": {},
   "outputs": [],
   "source": [
    "import numpy as np\n",
    "import pandas as pd\n",
    "import requests\n",
    "import ipywidgets as widgets\n",
    "from sklearn import tree"
   ]
  },
  {
   "cell_type": "code",
   "execution_count": 3,
   "metadata": {},
   "outputs": [
    {
     "name": "stdout",
     "output_type": "stream",
     "text": [
      "Get protein binding trainings data...\n"
     ]
    }
   ],
   "source": [
    "# get trainingsdata\n",
    "print('Get protein binding trainings data...')\n",
    "binding = pd.read_csv('data/binding.csv',header=None, names=['p1','p2','y'])"
   ]
  },
  {
   "cell_type": "code",
   "execution_count": 4,
   "metadata": {},
   "outputs": [
    {
     "name": "stdout",
     "output_type": "stream",
     "text": [
      "Get protein sequences from Uniprot DB...\n"
     ]
    }
   ],
   "source": [
    "# get protein sequences from Uniprot DB\n",
    "print('Get protein sequences from Uniprot DB...')\n",
    "def get_seq_fastna(df,colname):\n",
    "    seq = []\n",
    "    for i in df[colname]:\n",
    "        link = \"https://www.uniprot.org/uniprot/\"+i+\".fasta\"\n",
    "        seq.append(requests.get(link).text)\n",
    "    df[colname+\"_fasta\"] = seq\n",
    "    return df\n",
    "\n",
    "binding = get_seq_fastna(df=binding,colname='p1')\n",
    "binding = get_seq_fastna(df=binding,colname='p2')"
   ]
  },
  {
   "cell_type": "code",
   "execution_count": 5,
   "metadata": {},
   "outputs": [
    {
     "name": "stdout",
     "output_type": "stream",
     "text": [
      "Creating amino acid features...\n"
     ]
    }
   ],
   "source": [
    "# create amino acid features\n",
    "print('Creating amino acid features...')\n",
    "\n",
    "def create_aminoacid_occurence_counts(df,colname):\n",
    "    aminoacid_codes = ['G','A','L','M','F','W','K','Q','E','S','P','V','I','C','Y','H','R','N','D','T']\n",
    "    occ = []\n",
    "    for i in aminoacid_codes:\n",
    "        df[colname+'_cnt_'+i]=df[colname].str.count(i)\n",
    "    return df\n",
    "\n",
    "binding = create_aminoacid_occurence_counts(binding,colname='p1_fasta')\n",
    "binding = create_aminoacid_occurence_counts(binding,colname='p2_fasta')"
   ]
  },
  {
   "cell_type": "code",
   "execution_count": 6,
   "metadata": {},
   "outputs": [
    {
     "name": "stdout",
     "output_type": "stream",
     "text": [
      "Training ML model...\n"
     ]
    }
   ],
   "source": [
    "# training ML model\n",
    "print('Training ML model...')\n",
    "clf = tree.DecisionTreeClassifier()\n",
    "clf = clf.fit(binding.iloc[:,6:], binding.loc[:,'y'])"
   ]
  },
  {
   "cell_type": "markdown",
   "metadata": {},
   "source": [
    "# Remissio UG\n",
    "##### Predicting side effects"
   ]
  },
  {
   "cell_type": "code",
   "execution_count": 11,
   "metadata": {
    "scrolled": false
   },
   "outputs": [
    {
     "name": "stdout",
     "output_type": "stream",
     "text": [
      "Protein sequence immunotherapy receptor:\n"
     ]
    },
    {
     "data": {
      "application/vnd.jupyter.widget-view+json": {
       "model_id": "9c165c6fcd7b49d9bea1c48317f77792",
       "version_major": 2,
       "version_minor": 0
      },
      "text/plain": [
       "Text(value='')"
      ]
     },
     "metadata": {},
     "output_type": "display_data"
    },
    {
     "name": "stdout",
     "output_type": "stream",
     "text": [
      "Protein sequence healthy cell:\n"
     ]
    },
    {
     "data": {
      "application/vnd.jupyter.widget-view+json": {
       "model_id": "ed3ef0aeb55d430eb55f74f325e1943f",
       "version_major": 2,
       "version_minor": 0
      },
      "text/plain": [
       "Text(value='')"
      ]
     },
     "metadata": {},
     "output_type": "display_data"
    }
   ],
   "source": [
    "print('Protein sequence immunotherapy receptor:')\n",
    "input_p1 = widgets.Text()\n",
    "display(input_p1)\n",
    "print('Protein sequence healthy cell:')\n",
    "input_p2 = widgets.Text()\n",
    "display(input_p2)\n",
    "\n",
    "def handle_submit(sender):\n",
    "    binding_pred = pd.DataFrame({'p1':[input_p1.value], 'p2':[input_p2.value]})\n",
    "    binding_pred = get_seq_fastna(df=binding_pred,colname='p1')\n",
    "    binding_pred = get_seq_fastna(df=binding_pred,colname='p2')\n",
    "    binding_pred = create_aminoacid_occurence_counts(binding_pred,colname='p1_fasta')\n",
    "    binding_pred = create_aminoacid_occurence_counts(binding_pred,colname='p2_fasta')\n",
    "    #print('Checking for binding of protein '+input_p1.value+' and '+input_p2.value)\n",
    "    y_pred = clf.predict(binding_pred.iloc[:,5:])[0]\n",
    "    if y_pred ==0:\n",
    "        print('Result: No side-effects')\n",
    "    else:\n",
    "        print('You ve just discovered a life-saving T-cell target!')\n",
    "\n",
    "input_p2.on_submit(handle_submit)"
   ]
  },
  {
   "cell_type": "code",
   "execution_count": null,
   "metadata": {},
   "outputs": [],
   "source": []
  }
 ],
 "metadata": {
  "kernelspec": {
   "display_name": "Python [conda env:ppi1]",
   "language": "python",
   "name": "conda-env-ppi1-py"
  },
  "language_info": {
   "codemirror_mode": {
    "name": "ipython",
    "version": 3
   },
   "file_extension": ".py",
   "mimetype": "text/x-python",
   "name": "python",
   "nbconvert_exporter": "python",
   "pygments_lexer": "ipython3",
   "version": "3.7.3"
  }
 },
 "nbformat": 4,
 "nbformat_minor": 2
}
